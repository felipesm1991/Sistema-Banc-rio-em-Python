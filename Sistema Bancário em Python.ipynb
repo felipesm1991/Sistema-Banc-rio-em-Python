{
 "cells": [
  {
   "cell_type": "code",
   "execution_count": 4,
   "id": "51c67912",
   "metadata": {},
   "outputs": [],
   "source": [
    "menu = \"\"\"\n",
    "\n",
    "[1] Depositar\n",
    "[2] Sacar\n",
    "[3] Extrato\n",
    "[0] Sair\n",
    "\n",
    "=> \"\"\""
   ]
  },
  {
   "cell_type": "code",
   "execution_count": 5,
   "id": "2bcb3e0e",
   "metadata": {},
   "outputs": [],
   "source": [
    "saldo = 0\n",
    "limite = 500\n",
    "extrato = \"\"\n",
    "numero_saques = 0\n",
    "LIMITE_SAQUES = 3"
   ]
  },
  {
   "cell_type": "code",
   "execution_count": 6,
   "id": "9a610e8f",
   "metadata": {},
   "outputs": [
    {
     "name": "stdout",
     "output_type": "stream",
     "text": [
      "\n",
      "\n",
      "[1] Depositar\n",
      "[2] Sacar\n",
      "[3] Extrato\n",
      "[0] Sair\n",
      "\n",
      "=> 1\n",
      "Informe o valor do depósito: ,0\n"
     ]
    },
    {
     "ename": "ValueError",
     "evalue": "could not convert string to float: ',0'",
     "output_type": "error",
     "traceback": [
      "\u001b[1;31m---------------------------------------------------------------------------\u001b[0m",
      "\u001b[1;31mValueError\u001b[0m                                Traceback (most recent call last)",
      "\u001b[1;32m<ipython-input-6-a75cce38a170>\u001b[0m in \u001b[0;36m<module>\u001b[1;34m\u001b[0m\n\u001b[0;32m      4\u001b[0m \u001b[1;33m\u001b[0m\u001b[0m\n\u001b[0;32m      5\u001b[0m     \u001b[1;32mif\u001b[0m \u001b[0mopcao\u001b[0m \u001b[1;33m==\u001b[0m \u001b[1;34m\"1\"\u001b[0m\u001b[1;33m:\u001b[0m\u001b[1;33m\u001b[0m\u001b[1;33m\u001b[0m\u001b[0m\n\u001b[1;32m----> 6\u001b[1;33m         \u001b[0mvalor\u001b[0m \u001b[1;33m=\u001b[0m \u001b[0mfloat\u001b[0m\u001b[1;33m(\u001b[0m\u001b[0minput\u001b[0m\u001b[1;33m(\u001b[0m\u001b[1;34m\"Informe o valor do depósito: \"\u001b[0m\u001b[1;33m)\u001b[0m\u001b[1;33m)\u001b[0m\u001b[1;33m\u001b[0m\u001b[1;33m\u001b[0m\u001b[0m\n\u001b[0m\u001b[0;32m      7\u001b[0m \u001b[1;33m\u001b[0m\u001b[0m\n\u001b[0;32m      8\u001b[0m         \u001b[1;32mif\u001b[0m \u001b[0mvalor\u001b[0m \u001b[1;33m>\u001b[0m \u001b[1;36m0\u001b[0m\u001b[1;33m:\u001b[0m\u001b[1;33m\u001b[0m\u001b[1;33m\u001b[0m\u001b[0m\n",
      "\u001b[1;31mValueError\u001b[0m: could not convert string to float: ',0'"
     ]
    }
   ],
   "source": [
    "while True:\n",
    "\n",
    "    opcao = input(menu)\n",
    "\n",
    "    if opcao == \"1\":\n",
    "        valor = float(input(\"Informe o valor do depósito: \"))\n",
    "\n",
    "        if valor > 0:\n",
    "            saldo += valor\n",
    "            extrato += f\"Depósito: R$ {valor:.2f}\\n\"\n",
    "\n",
    "        else:\n",
    "            print(\"Operação falhou! O valor informado é inválido.\")\n",
    "\n",
    "    elif opcao == \"2\":\n",
    "        valor = float(input(\"Informe o valor do saque: \"))\n",
    "\n",
    "        excedeu_saldo = valor > saldo\n",
    "\n",
    "        excedeu_limite = valor > limite\n",
    "\n",
    "        excedeu_saques = numero_saques >= LIMITE_SAQUES\n",
    "\n",
    "        if excedeu_saldo:\n",
    "            print(\"Operação falhou! Você não tem saldo suficiente.\")\n",
    "\n",
    "        elif excedeu_limite:\n",
    "            print(\"Operação falhou! O valor do saque excede o limite.\")\n",
    "\n",
    "        elif excedeu_saques:\n",
    "            print(\"Operação falhou! Número máximo de saques excedido.\")\n",
    "\n",
    "        elif valor > 0:\n",
    "            saldo -= valor\n",
    "            extrato += f\"Saque: R$ {valor:.2f}\\n\"\n",
    "            numero_saques += 1\n",
    "\n",
    "        else:\n",
    "            print(\"Operação falhou! O valor informado é inválido.\")\n",
    "\n",
    "    elif opcao == \"3\":\n",
    "        print(\"\\n================ EXTRATO ================\")\n",
    "        print(\"Não foram realizadas movimentações.\" if not extrato else extrato)\n",
    "        print(f\"\\nSaldo: R$ {saldo:.2f}\")\n",
    "        print(\"==========================================\")\n",
    "\n",
    "    elif opcao == \"0\":\n",
    "        break\n",
    "\n",
    "    else:\n",
    "        print(\"Operação inválida, por favor selecione novamente a operação desejada.\")"
   ]
  },
  {
   "cell_type": "code",
   "execution_count": null,
   "id": "cb21a33c",
   "metadata": {},
   "outputs": [],
   "source": []
  }
 ],
 "metadata": {
  "kernelspec": {
   "display_name": "Python 3",
   "language": "python",
   "name": "python3"
  },
  "language_info": {
   "codemirror_mode": {
    "name": "ipython",
    "version": 3
   },
   "file_extension": ".py",
   "mimetype": "text/x-python",
   "name": "python",
   "nbconvert_exporter": "python",
   "pygments_lexer": "ipython3",
   "version": "3.9.4"
  }
 },
 "nbformat": 4,
 "nbformat_minor": 5
}
